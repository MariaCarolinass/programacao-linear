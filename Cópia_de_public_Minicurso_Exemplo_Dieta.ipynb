{
  "nbformat": 4,
  "nbformat_minor": 0,
  "metadata": {
    "colab": {
      "provenance": []
    },
    "kernelspec": {
      "name": "python3",
      "display_name": "Python 3"
    },
    "language_info": {
      "name": "python"
    }
  },
  "cells": [
    {
      "cell_type": "markdown",
      "source": [
        "# Programação Linear"
      ],
      "metadata": {
        "id": "ICx153fuWWa4"
      }
    },
    {
      "cell_type": "markdown",
      "source": [
        "## Programação Linear\n",
        "\n",
        "Na Programação Linear, o termo \"programação\" não está ligado diretamente apenas com o desenvolvimento de códigos, mas sim, com a programação em geral, como um algoritmo que mostra uma sequência de passos e instruções que resolve um problema. A Programação Linear é um modelo matemático criado para a melhor tomada de decisão afim de encontrar uma solução otimizada para o problema.\n",
        "\n",
        "Um modelo de programação envolve um problema inicial como o de minimizar uma função:  $3x_1 + 2x_2$, com essa função, precisamos analisar os parâmetros definidos, por exemplo:\n",
        "\n",
        "1.  $x_1$ e $x_2 \\geq 0$\n",
        "2.  $x_1 + x_2 \\geq 4$\n",
        "3.  $x_1 \\leq 3$\n",
        "4.  $x_2 \\leq 2$\n",
        "\n",
        "A partir das informações passadas, podemos tomar uma decisão para a função."
      ],
      "metadata": {
        "id": "LiE222sNWVD9"
      }
    },
    {
      "cell_type": "markdown",
      "source": [
        "#Modelagem de problemas de otimização e implementação em AMPL\n",
        "\n",
        "\n",
        "\n"
      ],
      "metadata": {
        "id": "mREHPFE71TJk"
      }
    },
    {
      "cell_type": "code",
      "execution_count": null,
      "metadata": {
        "id": "jKtLCbuO1PAv",
        "colab": {
          "base_uri": "https://localhost:8080/"
        },
        "outputId": "1d192c98-3ca4-4597-85fc-0ca4f4dba816"
      },
      "outputs": [
        {
          "output_type": "stream",
          "name": "stdout",
          "text": [
            "Using default Community Edition License for Colab. Get yours at: https://ampl.com/ce\n",
            "Licensed to AMPL Community Edition License for the AMPL Model Colaboratory (https://ampl.com/colab).\n"
          ]
        }
      ],
      "source": [
        "#ao executar este código, instalamos o suporte ao AMPL no notebook\n",
        "!pip install -q amplpy\n",
        "from amplpy import tools, AMPL\n",
        "Ampl = tools.ampl_notebook(\n",
        "    modules=[\"highs\"],      # pick from over 20 modules including most commercial and open-source solvers\n",
        "    license_uuid=\"default\") # your license UUID"
      ]
    },
    {
      "cell_type": "markdown",
      "source": [
        "# Problema da Dieta\n",
        "\n",
        "> Os dados utilizados aqui foram retirados de [[Tirone, 2019]](https://imef.furg.br/images/stories/Monografias/Matematica_aplicada/2019/2019-2_Giulia.pdf)\n",
        "\n",
        "Sua equipe está atuando no setor de planejamento do refeitório de uma fábrica, conjuntamente com a nutricionista responsável pelo estabelecimento. Diariamente, a empresa serve milhares de refeições aos trabalhadores, de tal modo que uma grande quantia é gasta todos os meses com este serviço.\n",
        "\n",
        "No entando, há a necessidade de se **reduzir os custos** no preparo da refeições **sem prejudicar a saúde** dos trabalhadores. Logo, optou-se por criar um modelo de _programação linear_ para auxiliar no processo de escolha dos alimentos que serão oferecidos aos trabalhadores em um dia específico, bem como sua respectiva quantidade.\n",
        "\n",
        "A nutricionista estabeleceu quantidades mínimias para certos nutrientes, vitaminas e minerais que um adulto deve ingerir ao longo de um dia:\n",
        "\n",
        "* Proteínas: 46g ou mais;\n",
        "* Cálcio: 1g ou mais;\n",
        "* Sódio: 1.5g ou mais;\n",
        "* Ferro: 0.018g ou mais;\n",
        "* Vitaminas: 0.771g ou mais;\n",
        "\n",
        "A quantidade máxima de calorias ingeridas também foi fixada em 2000kcal.\n",
        "\n",
        "Os alimentos disponíveis no estoque e suas respectivas informações são dados <a href=\"https://docs.google.com/spreadsheets/d/1SNGjaFgBLFy-NqaUT2pnF84GIN4QShZaXuHBF_JTX9M/edit?usp=sharing\">aqui</a>.\n",
        "\n",
        "## Tabelas separadas\n",
        "* [Tabela de nutrientes](https://docs.google.com/spreadsheets/d/e/2PACX-1vTRwIDujyFlL_zdMailPitroLTHkMKO5bhUGtMT-VKWLVZLJ35YYOxcreCCOEuJbdGeCdnwZTkZM5WW/pubhtml?gid=0&single=true);\n",
        "* [Tabela de custos](https://docs.google.com/spreadsheets/d/e/2PACX-1vTRwIDujyFlL_zdMailPitroLTHkMKO5bhUGtMT-VKWLVZLJ35YYOxcreCCOEuJbdGeCdnwZTkZM5WW/pubhtml?gid=636065252&single=true);\n",
        "* [Tabela de calorias](https://docs.google.com/spreadsheets/d/e/2PACX-1vTRwIDujyFlL_zdMailPitroLTHkMKO5bhUGtMT-VKWLVZLJ35YYOxcreCCOEuJbdGeCdnwZTkZM5WW/pubhtml?gid=1079156719&single=true);\n",
        "* [Tabela de limites](https://docs.google.com/spreadsheets/d/e/2PACX-1vTRwIDujyFlL_zdMailPitroLTHkMKO5bhUGtMT-VKWLVZLJ35YYOxcreCCOEuJbdGeCdnwZTkZM5WW/pub?gid=1651309023&single=true&output=csv)."
      ],
      "metadata": {
        "id": "Y5MyuippyDTz"
      }
    },
    {
      "cell_type": "markdown",
      "source": [
        "## Questionamentos do problema:\n",
        "\n",
        "* Quais são os parâmetros?\n",
        "* Quais são as variáveis de decisão e qual seu tipo?\n",
        "* Qual a função objetivo?\n",
        "* Quais as restrições?"
      ],
      "metadata": {
        "id": "IEHMyb1eB--U"
      }
    },
    {
      "cell_type": "markdown",
      "source": [
        "# Formulação Dieta\n",
        "---\n",
        "## 1. Formulação expandida\n",
        "**Objetivo**\n",
        "\n",
        "$minimize$ 0,93$x_1$ + 5,24$x_2$ + … + 1,6$x_{13}$ $→ Custo$\n",
        "\n",
        "**Restrições**\n",
        "\n",
        "136$x_1$ + 85$x_2$ + … + 99$x_{13} \\leq 2000 kcal$ $→ Calorias$\n",
        "\n",
        "4,6$x_1$ + 17,2$x_2$ + … + 3,9$x_{13} \\geq 46g$ $→ Proteínas$\n",
        "\n",
        "0,6$x_1$ + 0,3$x_2$ + … + 0,14$x_{13} \\geq 1g$ $→ Cálcio$\n",
        "\n",
        "0,276$x_1$ + 0,013$x_2$\t+ … +\t0,053$x_{13} \\geq 1,5g$ $→ Sódio$\n",
        "\n",
        "0,100$x_1$ + 0,010$x_2$\t+ … +\t0,000$x_{13} \\geq 0,018g$ $→ Ferro$\n",
        "\n",
        "0$x_1$ + 0,01$x_2$ + … + 0,02$x_{13} \\geq 0,771g$ $→ Vitaminas$\n",
        "\n",
        "\n",
        "\\\\\n",
        "\n",
        "## 2. Formulação Compacta\n",
        "O problema da escolha da dieta consiste em escolher quais alimentos de um conjunto de $n$ items devem formar a dieta do refeitório de uma fábrica. Para isso, é preciso respeitar o limite de ingestão calórica de ${2000kcal}$\n",
        "\n",
        "Parâmetros:\n",
        "- $m$: Total de alimentos = 13;\n",
        "- $n$: Total de nutrientes = 5;\n",
        "- $nutriente_{ij}$: cada um dos elementos da matriz de nutrientes;\n",
        "- $custo_i$: custo de cada elemento $i$;\n",
        "- $caloria_i$: é a quantidade de cada caloria de cada alimento;\n",
        "- $l_i$: é a quantidade mínima de cada nutriente;\n",
        "- $u_i$: = é a quantidade máxima de cada nutriente;\n",
        "- $max_calorias$: é a quantidade máxima de calorias permitida;\n",
        "- $min_calorias$: é a quantidade mínima de calorias permitida;\n",
        "- $nome_alimento$: nome de cada alimento.\n",
        "\n",
        "Variáveis:\n",
        "- $x$: variável que indica a quantidade de cada alimento.\n",
        "\n",
        "Objetivo:\n",
        "\n",
        "$$\n",
        "min~CUSTO: \\sum_{i=1}^{m}custo_i \\times x_i\n",
        "$$\n",
        "\n",
        "Restrições:\n",
        "\n",
        "$$\n",
        "r_1: \\text{min_calorias} \\leq \\sum_{i=1}^{m}calorias_i\\times x_i \\leq max_calorias, \\forall j \\in n\n",
        "$$\n",
        "\n",
        "$$\n",
        "r_2: l_j \\leq \\sum_{i=1}^{m}nutrientes_{ij}\\times x_i \\leq u_j, \\forall\n",
        "$$\n"
      ],
      "metadata": {
        "id": "MxwAhpML1AlB"
      }
    },
    {
      "cell_type": "markdown",
      "source": [
        "## Crie seu arquivo .dat"
      ],
      "metadata": {
        "id": "tYlqw-8nBbNh"
      }
    },
    {
      "cell_type": "code",
      "source": [
        "%%writefile dieta.dat\n",
        "\n",
        "param m := 13;\n",
        "param n:= 5;\n",
        "param max_calorias := 2000;\n",
        "param min_calorias := 0;\n",
        "\n",
        "param : nome_nutriente   l       u :=\n",
        "    1   \"proteínas (g)\"  46      Infinity\n",
        "    2   \"cálcio (g)\"     1       Infinity\n",
        "    3   \"sódio (g)\"      1.5     Infinity\n",
        "    4   \"ferro (g)\"      0.018   Infinity\n",
        "    5   \"vitaminas (g)\"  0.77    Infinity;\n",
        "\n",
        "\n",
        "param : nome_ingrediente   custo :=\n",
        "     1  \"pão integral\"     0.93\n",
        "     2  \"queijo cottage\"   5.24\n",
        "     3  \"mamão\"            1.29\n",
        "     4  \"nozes\"            3.05\n",
        "     5  \"salada crua\"      0.5\n",
        "     6  \"feijão\"           0.63\n",
        "     7  \"arroz integral\"   0.09\n",
        "     8  \"frango grelhado\"  0.89\n",
        "     9  \"maçã\"             1.95\n",
        "     10 \"tapioca\"          0.21\n",
        "     11 \"ovo\"              0.99\n",
        "     12 \"atum ralado\"      0.61\n",
        "     13 \"iorgute\"          1.69;\n",
        "\n",
        "param : nome_ingrediente     calorias :=\n",
        "     1  \"pão integral\"       136\n",
        "     2  \"queijo cottage\"     85\n",
        "     3  \"mamão\"              45\n",
        "     4  \"nozes\"              100\n",
        "     5  \"salada crua\"        25\n",
        "     6  \"feijão\"             132\n",
        "     7  \"arroz integral\"     25\n",
        "     8  \"frango grelhado\"    165\n",
        "     9  \"maçã\"               72\n",
        "     10 \"tapioca\"            68\n",
        "     11 \"ovo\"                77\n",
        "     12 \"atum ralado\"        17\n",
        "     13 \"iorgute\"            99;\n",
        "\n",
        "\n",
        "param nutriente: 1     2    3       4      5 :=\n",
        "     1           4.6  0.06  0.276   0.1    0\n",
        "     2           17.2 0.03  0.013   0.01   0.01\n",
        "     3           0.8  0.02  0.0055  0.01   0.77\n",
        "     4           2.3  0     0       0      0\n",
        "     5           1.5  0.02  0.08    0.03   0.93\n",
        "     6           8.8  0.03  0.001   0.12   0\n",
        "     7           0.5  0     0       0      0\n",
        "     8           31   0.02  0.074   0.06   0\n",
        "     9           0.3  0.01  0.001   0.01   0.12\n",
        "     10          0    0     0.037   0.02   0\n",
        "     11          6.2  0.03  0.139   0.03   0.06\n",
        "     12          3    0     0.069   0      0\n",
        "     13          3.9  0.14  0.053   0      0.02;"
      ],
      "metadata": {
        "id": "4DUcEJpj2v_U",
        "colab": {
          "base_uri": "https://localhost:8080/"
        },
        "outputId": "741cf8d9-8b35-4e46-9815-60884a1da4ed"
      },
      "execution_count": null,
      "outputs": [
        {
          "output_type": "stream",
          "name": "stdout",
          "text": [
            "Overwriting dieta.dat\n"
          ]
        }
      ]
    },
    {
      "cell_type": "markdown",
      "source": [
        "## Crie seu arquivo .mod"
      ],
      "metadata": {
        "id": "YuGc6j1uBcCR"
      }
    },
    {
      "cell_type": "code",
      "source": [
        "%%writefile dieta.mod\n",
        "param m > 0;\n",
        "param n > 0;\n",
        "param min_calorias >= 0;\n",
        "param max_calorias >= 0;\n",
        "param calorias{1..m} >= 0;\n",
        "param nome_ingrediente{1..m} symbolic;\n",
        "param nome_nutriente{1..n} symbolic;\n",
        "param nutriente{1..m, 1..n} >= 0;\n",
        "param custo{1..m} >= 0;\n",
        "param l{1..n} >= 0;\n",
        "param u{1..n} >= 0;\n",
        "\n",
        "var x{1..m} >= 0;\n",
        "\n",
        "minimize Z: sum{i in 1..m}custo[i]*x[i];\n",
        "\n",
        "subject to r1{j in 1..n}: l[j] <= sum{i in 1..m}nutriente[i, j]*x[i] <= u[j];\n",
        "\n",
        "subject to r2{j in 1..n}: min_calorias <= sum{i in 1..m}calorias[i]*x[i] <=max_calorias;"
      ],
      "metadata": {
        "id": "-431PcDsBaOx",
        "colab": {
          "base_uri": "https://localhost:8080/"
        },
        "outputId": "cebb0a6e-6e54-4ebf-edce-066d83866756"
      },
      "execution_count": null,
      "outputs": [
        {
          "output_type": "stream",
          "name": "stdout",
          "text": [
            "Overwriting dieta.mod\n"
          ]
        }
      ]
    },
    {
      "cell_type": "markdown",
      "source": [
        "## Crie seu arquivo .run ou execute o ampl_eval"
      ],
      "metadata": {
        "id": "oMg-Ch-UBdcM"
      }
    },
    {
      "cell_type": "code",
      "source": [
        "# %%ampl_eval\n",
        "\n",
        "%%writefile dieta.run\n",
        "\n",
        "reset;\n",
        "\n",
        "model \"dieta.mod\";\n",
        "data \"dieta.dat\";\n",
        "option solver highs;\n",
        "\n",
        "solve;\n",
        "\n",
        "for {i in 1..m}\n",
        "{\n",
        "    if x[i] > 0 then\n",
        "      printf \"%s %f\\n\", nome_ingrediente[i], x[i];\n",
        "};\n",
        "\n",
        "display sum{i in 1..m}calorias[i]*x[i];"
      ],
      "metadata": {
        "id": "HJkVYlw1BZ98",
        "colab": {
          "base_uri": "https://localhost:8080/"
        },
        "outputId": "377dbd1d-8252-4742-9162-996d934802a5"
      },
      "execution_count": null,
      "outputs": [
        {
          "output_type": "stream",
          "name": "stdout",
          "text": [
            "Overwriting dieta.run\n"
          ]
        }
      ]
    },
    {
      "cell_type": "code",
      "source": [
        "!ampl dieta.run"
      ],
      "metadata": {
        "colab": {
          "base_uri": "https://localhost:8080/"
        },
        "id": "gYY9ovpf-kYx",
        "outputId": "d00c89d9-cc76-4adf-ba6c-497dabbe2e29"
      },
      "execution_count": null,
      "outputs": [
        {
          "output_type": "stream",
          "name": "stdout",
          "text": [
            "HiGHS 1.8.1: \b\b\b\b\b\b\b\b\b\b\b\b\bHiGHS 1.8.1: optimal solution; objective 13.22738288\n",
            "4 simplex iterations\n",
            "0 barrier iterations\n",
            "pão integral 4.177816\n",
            "salada crua 0.715579\n",
            "frango grelhado 0.171900\n",
            "iorgute 5.225582\n",
            "sum{i in 1 .. m} calorias[i]*x[i] = 1131.77\n",
            "\n"
          ]
        }
      ]
    },
    {
      "cell_type": "markdown",
      "source": [
        "# Python"
      ],
      "metadata": {
        "id": "83GAJzl5Z0ja"
      }
    },
    {
      "cell_type": "markdown",
      "source": [
        "## Aquisição de dados"
      ],
      "metadata": {
        "id": "ZiJCJuWrh882"
      }
    },
    {
      "cell_type": "code",
      "source": [
        "import pandas as pd\n",
        "import numpy as np\n",
        "\n",
        "links = {\n",
        "    \"nutrientes\": \"https://www.google.com/url?q=https%3A%2F%2Fdocs.google.com%2Fspreadsheets%2Fd%2Fe%2F2PACX-1vTRwIDujyFlL_zdMailPitroLTHkMKO5bhUGtMT-VKWLVZLJ35YYOxcreCCOEuJbdGeCdnwZTkZM5WW%2Fpub%3Fgid%3D0%26single%3Dtrue%26output%3Dcsv\",\n",
        "    \"calorias\": \"https://www.google.com/url?q=https%3A%2F%2Fdocs.google.com%2Fspreadsheets%2Fd%2Fe%2F2PACX-1vTRwIDujyFlL_zdMailPitroLTHkMKO5bhUGtMT-VKWLVZLJ35YYOxcreCCOEuJbdGeCdnwZTkZM5WW%2Fpub%3Fgid%3D1079156719%26single%3Dtrue%26output%3Dcsv\",\n",
        "    \"custos\": \"https://www.google.com/url?q=https%3A%2F%2Fdocs.google.com%2Fspreadsheets%2Fd%2Fe%2F2PACX-1vTRwIDujyFlL_zdMailPitroLTHkMKO5bhUGtMT-VKWLVZLJ35YYOxcreCCOEuJbdGeCdnwZTkZM5WW%2Fpub%3Fgid%3D636065252%26single%3Dtrue%26output%3Dcsv\",\n",
        "    \"limites\": \"https://www.google.com/url?q=https%3A%2F%2Fdocs.google.com%2Fspreadsheets%2Fd%2Fe%2F2PACX-1vTRwIDujyFlL_zdMailPitroLTHkMKO5bhUGtMT-VKWLVZLJ35YYOxcreCCOEuJbdGeCdnwZTkZM5WW%2Fpub%3Fgid%3D1651309023%26single%3Dtrue%26output%3Dcsv\"\n",
        "}\n",
        "\n",
        "db_nutrientes = pd.read_csv(links[\"nutrientes\"], sep=\",\", index_col='Unnamed: 0')\n",
        "db_calorias = pd.read_csv(links[\"calorias\"], sep=\",\", index_col='Unnamed: 0')\n",
        "db_custos = pd.read_csv(links[\"custos\"], sep=\",\", index_col='Unnamed: 0')\n",
        "db_limites = pd.read_csv(links[\"limites\"], sep=\",\", index_col='Unnamed: 0')\n",
        "\n",
        "#db_nutrientes\n",
        "db_calorias\n",
        "#db_custos\n",
        "#db_limites"
      ],
      "metadata": {
        "id": "X28vkZtOZ2cn",
        "colab": {
          "base_uri": "https://localhost:8080/",
          "height": 457
        },
        "outputId": "ee6c079c-fdd0-44c1-a9c3-870f8ad07429"
      },
      "execution_count": null,
      "outputs": [
        {
          "output_type": "execute_result",
          "data": {
            "text/plain": [
              "                 calorias (kcal)\n",
              "pão integral               136.0\n",
              "queijo cottage              85.0\n",
              "mamão                       45.0\n",
              "nozes                      100.0\n",
              "salada crua                 25.0\n",
              "feijão                     132.0\n",
              "arroz integral              25.0\n",
              "frango grelhado            165.0\n",
              "maçã                        72.0\n",
              "tapioca                     68.0\n",
              "ovo                         77.0\n",
              "atum ralado                 17.0\n",
              "iogurte                     99.0"
            ],
            "text/html": [
              "\n",
              "  <div id=\"df-beed9dd3-335e-4118-9b93-e1fb41ef8eec\" class=\"colab-df-container\">\n",
              "    <div>\n",
              "<style scoped>\n",
              "    .dataframe tbody tr th:only-of-type {\n",
              "        vertical-align: middle;\n",
              "    }\n",
              "\n",
              "    .dataframe tbody tr th {\n",
              "        vertical-align: top;\n",
              "    }\n",
              "\n",
              "    .dataframe thead th {\n",
              "        text-align: right;\n",
              "    }\n",
              "</style>\n",
              "<table border=\"1\" class=\"dataframe\">\n",
              "  <thead>\n",
              "    <tr style=\"text-align: right;\">\n",
              "      <th></th>\n",
              "      <th>calorias (kcal)</th>\n",
              "    </tr>\n",
              "  </thead>\n",
              "  <tbody>\n",
              "    <tr>\n",
              "      <th>pão integral</th>\n",
              "      <td>136.0</td>\n",
              "    </tr>\n",
              "    <tr>\n",
              "      <th>queijo cottage</th>\n",
              "      <td>85.0</td>\n",
              "    </tr>\n",
              "    <tr>\n",
              "      <th>mamão</th>\n",
              "      <td>45.0</td>\n",
              "    </tr>\n",
              "    <tr>\n",
              "      <th>nozes</th>\n",
              "      <td>100.0</td>\n",
              "    </tr>\n",
              "    <tr>\n",
              "      <th>salada crua</th>\n",
              "      <td>25.0</td>\n",
              "    </tr>\n",
              "    <tr>\n",
              "      <th>feijão</th>\n",
              "      <td>132.0</td>\n",
              "    </tr>\n",
              "    <tr>\n",
              "      <th>arroz integral</th>\n",
              "      <td>25.0</td>\n",
              "    </tr>\n",
              "    <tr>\n",
              "      <th>frango grelhado</th>\n",
              "      <td>165.0</td>\n",
              "    </tr>\n",
              "    <tr>\n",
              "      <th>maçã</th>\n",
              "      <td>72.0</td>\n",
              "    </tr>\n",
              "    <tr>\n",
              "      <th>tapioca</th>\n",
              "      <td>68.0</td>\n",
              "    </tr>\n",
              "    <tr>\n",
              "      <th>ovo</th>\n",
              "      <td>77.0</td>\n",
              "    </tr>\n",
              "    <tr>\n",
              "      <th>atum ralado</th>\n",
              "      <td>17.0</td>\n",
              "    </tr>\n",
              "    <tr>\n",
              "      <th>iogurte</th>\n",
              "      <td>99.0</td>\n",
              "    </tr>\n",
              "  </tbody>\n",
              "</table>\n",
              "</div>\n",
              "    <div class=\"colab-df-buttons\">\n",
              "\n",
              "  <div class=\"colab-df-container\">\n",
              "    <button class=\"colab-df-convert\" onclick=\"convertToInteractive('df-beed9dd3-335e-4118-9b93-e1fb41ef8eec')\"\n",
              "            title=\"Convert this dataframe to an interactive table.\"\n",
              "            style=\"display:none;\">\n",
              "\n",
              "  <svg xmlns=\"http://www.w3.org/2000/svg\" height=\"24px\" viewBox=\"0 -960 960 960\">\n",
              "    <path d=\"M120-120v-720h720v720H120Zm60-500h600v-160H180v160Zm220 220h160v-160H400v160Zm0 220h160v-160H400v160ZM180-400h160v-160H180v160Zm440 0h160v-160H620v160ZM180-180h160v-160H180v160Zm440 0h160v-160H620v160Z\"/>\n",
              "  </svg>\n",
              "    </button>\n",
              "\n",
              "  <style>\n",
              "    .colab-df-container {\n",
              "      display:flex;\n",
              "      gap: 12px;\n",
              "    }\n",
              "\n",
              "    .colab-df-convert {\n",
              "      background-color: #E8F0FE;\n",
              "      border: none;\n",
              "      border-radius: 50%;\n",
              "      cursor: pointer;\n",
              "      display: none;\n",
              "      fill: #1967D2;\n",
              "      height: 32px;\n",
              "      padding: 0 0 0 0;\n",
              "      width: 32px;\n",
              "    }\n",
              "\n",
              "    .colab-df-convert:hover {\n",
              "      background-color: #E2EBFA;\n",
              "      box-shadow: 0px 1px 2px rgba(60, 64, 67, 0.3), 0px 1px 3px 1px rgba(60, 64, 67, 0.15);\n",
              "      fill: #174EA6;\n",
              "    }\n",
              "\n",
              "    .colab-df-buttons div {\n",
              "      margin-bottom: 4px;\n",
              "    }\n",
              "\n",
              "    [theme=dark] .colab-df-convert {\n",
              "      background-color: #3B4455;\n",
              "      fill: #D2E3FC;\n",
              "    }\n",
              "\n",
              "    [theme=dark] .colab-df-convert:hover {\n",
              "      background-color: #434B5C;\n",
              "      box-shadow: 0px 1px 3px 1px rgba(0, 0, 0, 0.15);\n",
              "      filter: drop-shadow(0px 1px 2px rgba(0, 0, 0, 0.3));\n",
              "      fill: #FFFFFF;\n",
              "    }\n",
              "  </style>\n",
              "\n",
              "    <script>\n",
              "      const buttonEl =\n",
              "        document.querySelector('#df-beed9dd3-335e-4118-9b93-e1fb41ef8eec button.colab-df-convert');\n",
              "      buttonEl.style.display =\n",
              "        google.colab.kernel.accessAllowed ? 'block' : 'none';\n",
              "\n",
              "      async function convertToInteractive(key) {\n",
              "        const element = document.querySelector('#df-beed9dd3-335e-4118-9b93-e1fb41ef8eec');\n",
              "        const dataTable =\n",
              "          await google.colab.kernel.invokeFunction('convertToInteractive',\n",
              "                                                    [key], {});\n",
              "        if (!dataTable) return;\n",
              "\n",
              "        const docLinkHtml = 'Like what you see? Visit the ' +\n",
              "          '<a target=\"_blank\" href=https://colab.research.google.com/notebooks/data_table.ipynb>data table notebook</a>'\n",
              "          + ' to learn more about interactive tables.';\n",
              "        element.innerHTML = '';\n",
              "        dataTable['output_type'] = 'display_data';\n",
              "        await google.colab.output.renderOutput(dataTable, element);\n",
              "        const docLink = document.createElement('div');\n",
              "        docLink.innerHTML = docLinkHtml;\n",
              "        element.appendChild(docLink);\n",
              "      }\n",
              "    </script>\n",
              "  </div>\n",
              "\n",
              "\n",
              "<div id=\"df-5cf150d8-d96d-4697-ab71-c5dab3d79a61\">\n",
              "  <button class=\"colab-df-quickchart\" onclick=\"quickchart('df-5cf150d8-d96d-4697-ab71-c5dab3d79a61')\"\n",
              "            title=\"Suggest charts\"\n",
              "            style=\"display:none;\">\n",
              "\n",
              "<svg xmlns=\"http://www.w3.org/2000/svg\" height=\"24px\"viewBox=\"0 0 24 24\"\n",
              "     width=\"24px\">\n",
              "    <g>\n",
              "        <path d=\"M19 3H5c-1.1 0-2 .9-2 2v14c0 1.1.9 2 2 2h14c1.1 0 2-.9 2-2V5c0-1.1-.9-2-2-2zM9 17H7v-7h2v7zm4 0h-2V7h2v10zm4 0h-2v-4h2v4z\"/>\n",
              "    </g>\n",
              "</svg>\n",
              "  </button>\n",
              "\n",
              "<style>\n",
              "  .colab-df-quickchart {\n",
              "      --bg-color: #E8F0FE;\n",
              "      --fill-color: #1967D2;\n",
              "      --hover-bg-color: #E2EBFA;\n",
              "      --hover-fill-color: #174EA6;\n",
              "      --disabled-fill-color: #AAA;\n",
              "      --disabled-bg-color: #DDD;\n",
              "  }\n",
              "\n",
              "  [theme=dark] .colab-df-quickchart {\n",
              "      --bg-color: #3B4455;\n",
              "      --fill-color: #D2E3FC;\n",
              "      --hover-bg-color: #434B5C;\n",
              "      --hover-fill-color: #FFFFFF;\n",
              "      --disabled-bg-color: #3B4455;\n",
              "      --disabled-fill-color: #666;\n",
              "  }\n",
              "\n",
              "  .colab-df-quickchart {\n",
              "    background-color: var(--bg-color);\n",
              "    border: none;\n",
              "    border-radius: 50%;\n",
              "    cursor: pointer;\n",
              "    display: none;\n",
              "    fill: var(--fill-color);\n",
              "    height: 32px;\n",
              "    padding: 0;\n",
              "    width: 32px;\n",
              "  }\n",
              "\n",
              "  .colab-df-quickchart:hover {\n",
              "    background-color: var(--hover-bg-color);\n",
              "    box-shadow: 0 1px 2px rgba(60, 64, 67, 0.3), 0 1px 3px 1px rgba(60, 64, 67, 0.15);\n",
              "    fill: var(--button-hover-fill-color);\n",
              "  }\n",
              "\n",
              "  .colab-df-quickchart-complete:disabled,\n",
              "  .colab-df-quickchart-complete:disabled:hover {\n",
              "    background-color: var(--disabled-bg-color);\n",
              "    fill: var(--disabled-fill-color);\n",
              "    box-shadow: none;\n",
              "  }\n",
              "\n",
              "  .colab-df-spinner {\n",
              "    border: 2px solid var(--fill-color);\n",
              "    border-color: transparent;\n",
              "    border-bottom-color: var(--fill-color);\n",
              "    animation:\n",
              "      spin 1s steps(1) infinite;\n",
              "  }\n",
              "\n",
              "  @keyframes spin {\n",
              "    0% {\n",
              "      border-color: transparent;\n",
              "      border-bottom-color: var(--fill-color);\n",
              "      border-left-color: var(--fill-color);\n",
              "    }\n",
              "    20% {\n",
              "      border-color: transparent;\n",
              "      border-left-color: var(--fill-color);\n",
              "      border-top-color: var(--fill-color);\n",
              "    }\n",
              "    30% {\n",
              "      border-color: transparent;\n",
              "      border-left-color: var(--fill-color);\n",
              "      border-top-color: var(--fill-color);\n",
              "      border-right-color: var(--fill-color);\n",
              "    }\n",
              "    40% {\n",
              "      border-color: transparent;\n",
              "      border-right-color: var(--fill-color);\n",
              "      border-top-color: var(--fill-color);\n",
              "    }\n",
              "    60% {\n",
              "      border-color: transparent;\n",
              "      border-right-color: var(--fill-color);\n",
              "    }\n",
              "    80% {\n",
              "      border-color: transparent;\n",
              "      border-right-color: var(--fill-color);\n",
              "      border-bottom-color: var(--fill-color);\n",
              "    }\n",
              "    90% {\n",
              "      border-color: transparent;\n",
              "      border-bottom-color: var(--fill-color);\n",
              "    }\n",
              "  }\n",
              "</style>\n",
              "\n",
              "  <script>\n",
              "    async function quickchart(key) {\n",
              "      const quickchartButtonEl =\n",
              "        document.querySelector('#' + key + ' button');\n",
              "      quickchartButtonEl.disabled = true;  // To prevent multiple clicks.\n",
              "      quickchartButtonEl.classList.add('colab-df-spinner');\n",
              "      try {\n",
              "        const charts = await google.colab.kernel.invokeFunction(\n",
              "            'suggestCharts', [key], {});\n",
              "      } catch (error) {\n",
              "        console.error('Error during call to suggestCharts:', error);\n",
              "      }\n",
              "      quickchartButtonEl.classList.remove('colab-df-spinner');\n",
              "      quickchartButtonEl.classList.add('colab-df-quickchart-complete');\n",
              "    }\n",
              "    (() => {\n",
              "      let quickchartButtonEl =\n",
              "        document.querySelector('#df-5cf150d8-d96d-4697-ab71-c5dab3d79a61 button');\n",
              "      quickchartButtonEl.style.display =\n",
              "        google.colab.kernel.accessAllowed ? 'block' : 'none';\n",
              "    })();\n",
              "  </script>\n",
              "</div>\n",
              "\n",
              "  <div id=\"id_7ddbe31b-ce15-4fc4-bd23-4dac15135347\">\n",
              "    <style>\n",
              "      .colab-df-generate {\n",
              "        background-color: #E8F0FE;\n",
              "        border: none;\n",
              "        border-radius: 50%;\n",
              "        cursor: pointer;\n",
              "        display: none;\n",
              "        fill: #1967D2;\n",
              "        height: 32px;\n",
              "        padding: 0 0 0 0;\n",
              "        width: 32px;\n",
              "      }\n",
              "\n",
              "      .colab-df-generate:hover {\n",
              "        background-color: #E2EBFA;\n",
              "        box-shadow: 0px 1px 2px rgba(60, 64, 67, 0.3), 0px 1px 3px 1px rgba(60, 64, 67, 0.15);\n",
              "        fill: #174EA6;\n",
              "      }\n",
              "\n",
              "      [theme=dark] .colab-df-generate {\n",
              "        background-color: #3B4455;\n",
              "        fill: #D2E3FC;\n",
              "      }\n",
              "\n",
              "      [theme=dark] .colab-df-generate:hover {\n",
              "        background-color: #434B5C;\n",
              "        box-shadow: 0px 1px 3px 1px rgba(0, 0, 0, 0.15);\n",
              "        filter: drop-shadow(0px 1px 2px rgba(0, 0, 0, 0.3));\n",
              "        fill: #FFFFFF;\n",
              "      }\n",
              "    </style>\n",
              "    <button class=\"colab-df-generate\" onclick=\"generateWithVariable('db_calorias')\"\n",
              "            title=\"Generate code using this dataframe.\"\n",
              "            style=\"display:none;\">\n",
              "\n",
              "  <svg xmlns=\"http://www.w3.org/2000/svg\" height=\"24px\"viewBox=\"0 0 24 24\"\n",
              "       width=\"24px\">\n",
              "    <path d=\"M7,19H8.4L18.45,9,17,7.55,7,17.6ZM5,21V16.75L18.45,3.32a2,2,0,0,1,2.83,0l1.4,1.43a1.91,1.91,0,0,1,.58,1.4,1.91,1.91,0,0,1-.58,1.4L9.25,21ZM18.45,9,17,7.55Zm-12,3A5.31,5.31,0,0,0,4.9,8.1,5.31,5.31,0,0,0,1,6.5,5.31,5.31,0,0,0,4.9,4.9,5.31,5.31,0,0,0,6.5,1,5.31,5.31,0,0,0,8.1,4.9,5.31,5.31,0,0,0,12,6.5,5.46,5.46,0,0,0,6.5,12Z\"/>\n",
              "  </svg>\n",
              "    </button>\n",
              "    <script>\n",
              "      (() => {\n",
              "      const buttonEl =\n",
              "        document.querySelector('#id_7ddbe31b-ce15-4fc4-bd23-4dac15135347 button.colab-df-generate');\n",
              "      buttonEl.style.display =\n",
              "        google.colab.kernel.accessAllowed ? 'block' : 'none';\n",
              "\n",
              "      buttonEl.onclick = () => {\n",
              "        google.colab.notebook.generateWithVariable('db_calorias');\n",
              "      }\n",
              "      })();\n",
              "    </script>\n",
              "  </div>\n",
              "\n",
              "    </div>\n",
              "  </div>\n"
            ],
            "application/vnd.google.colaboratory.intrinsic+json": {
              "type": "dataframe",
              "variable_name": "db_calorias",
              "summary": "{\n  \"name\": \"db_calorias\",\n  \"rows\": 13,\n  \"fields\": [\n    {\n      \"column\": \"calorias (kcal)\",\n      \"properties\": {\n        \"dtype\": \"number\",\n        \"std\": 45.92496667502943,\n        \"min\": 17.0,\n        \"max\": 165.0,\n        \"num_unique_values\": 12,\n        \"samples\": [\n          17.0,\n          77.0,\n          136.0\n        ],\n        \"semantic_type\": \"\",\n        \"description\": \"\"\n      }\n    }\n  ]\n}"
            }
          },
          "metadata": {},
          "execution_count": 42
        }
      ]
    },
    {
      "cell_type": "markdown",
      "source": [
        "## Utilização `amplpy`"
      ],
      "metadata": {
        "id": "EzacAZbGiC8z"
      }
    },
    {
      "cell_type": "code",
      "source": [
        "ampl = AMPL()\n",
        "ampl.reset()\n",
        "\n",
        "# Definir parâmetros\n",
        "m = db_nutrientes.shape[0]\n",
        "n = db_nutrientes.shape[1]\n",
        "l = db_limites['limite inferior'].values\n",
        "u = db_limites['limite superior'].values\n",
        "max_calorias = 2000\n",
        "min_calorias = 0\n",
        "\n",
        "nome_ingrediente = db_nutrientes.index.values\n",
        "nome_nutriente = db_nutrientes.columns.values\n",
        "calorias = db_calorias.values\n",
        "custo = db_custos.values\n",
        "nutriente = db_nutrientes.values\n",
        "\n",
        "# Carregar modelo\n",
        "ampl.read('dieta.mod')\n",
        "\n",
        "# Passar parâmetros\n",
        "ampl.param['m'] = m\n",
        "ampl.param['n'] = n\n",
        "ampl.param['l'] = l\n",
        "ampl.param['u'] = u\n",
        "ampl.param['max_calorias'] = max_calorias\n",
        "ampl.param['min_calorias'] = min_calorias\n",
        "ampl.param['nome_ingrediente'] = nome_ingrediente\n",
        "ampl.param['nome_nutriente'] = nome_nutriente\n",
        "ampl.param['calorias'] = calorias\n",
        "ampl.param['custo'] = custo\n",
        "ampl.param['nutriente'] = nutriente\n",
        "\n",
        "# Configurar solver e opções AMPL\n",
        "ampl.setOption('solver', 'highs')\n",
        "ampl.setOption('highs_options', \"timelim=620 debug=1 miploglev=2 outlev=1\")\n",
        "\n",
        "# Resolver o problema\n",
        "ampl.solve()"
      ],
      "metadata": {
        "id": "vD7Q1IWRh8A0",
        "colab": {
          "base_uri": "https://localhost:8080/"
        },
        "outputId": "bf19cfd2-f62b-425c-a693-1b8bae736d9d"
      },
      "execution_count": null,
      "outputs": [
        {
          "output_type": "stream",
          "name": "stdout",
          "text": [
            "HiGHS 1.8.1:   lim:time = 620\n",
            "  tech:debug = 1\n",
            "  tech:miploglev = 2\n",
            "  tech:outlev = 1\n",
            "Running HiGHS 1.8.1 (git hash: 4a7f24a): Copyright (c) 2024 HiGHS under MIT licence terms\n",
            "Coefficient ranges:\n",
            "  Matrix [1e-03, 2e+02]\n",
            "  Cost   [9e-02, 5e+00]\n",
            "  Bound  [0e+00, 0e+00]\n",
            "  RHS    [2e-02, 2e+03]\n",
            "Presolving model\n",
            "10 rows, 13 cols, 112 nonzeros  0s\n",
            "6 rows, 13 cols, 60 nonzeros  0s\n",
            "6 rows, 13 cols, 60 nonzeros  0s\n",
            "Presolve : Reductions: rows 6(-4); columns 13(-0); elements 60(-52)\n",
            "Solving the presolved LP\n",
            "Using EKK dual simplex solver - serial\n",
            "  Iteration        Objective     Infeasibilities num(sum)\n",
            "          0     0.0000000000e+00 Pr: 5(248.396) 0s\n",
            "          4     1.3227382884e+01 Pr: 0(0) 0s\n",
            "Solving the original LP from the solution after postsolve\n",
            "Model status        : Optimal\n",
            "Simplex   iterations: 4\n",
            "Objective value     :  1.3227382884e+01\n",
            "Relative P-D gap    :  4.0288170115e-16\n",
            "HiGHS run time      :          0.00\n",
            "HiGHS 1.8.1: optimal solution; objective 13.22738288\n",
            "4 simplex iterations\n",
            "0 barrier iterations\n"
          ]
        }
      ]
    },
    {
      "cell_type": "markdown",
      "source": [
        "## Exibição de resultados"
      ],
      "metadata": {
        "id": "RwpuZBXzg6u3"
      }
    },
    {
      "cell_type": "code",
      "source": [
        "# Imprimir os resultados\n",
        "resultado = {}\n",
        "\n",
        "for i in range(1, m + 1):\n",
        "    resultado[nome_ingrediente[i -1]] = ampl.var['x'][i].value()\n",
        "\n",
        "resultado = pd.Series(resultado)\n",
        "resultado.index.name = 'INGREDIENTE'\n",
        "resultado.name = 'QUANTIDADE'\n",
        "display(resultado[resultado > 0].round(3))\n",
        "\n",
        "ampl.display('sum{i in 1..m}calorias[i]*x[i]')\n",
        "ampl.display('Z')"
      ],
      "metadata": {
        "id": "dbYDYVEcaExT",
        "colab": {
          "base_uri": "https://localhost:8080/",
          "height": 312
        },
        "outputId": "bee8a4f6-41df-4f25-c062-fa30db063cdb"
      },
      "execution_count": null,
      "outputs": [
        {
          "output_type": "display_data",
          "data": {
            "text/plain": [
              "INGREDIENTE\n",
              "pão integral       4.178\n",
              "salada crua        0.716\n",
              "frango grelhado    0.172\n",
              "iogurte            5.226\n",
              "Name: QUANTIDADE, dtype: float64"
            ],
            "text/html": [
              "<div>\n",
              "<style scoped>\n",
              "    .dataframe tbody tr th:only-of-type {\n",
              "        vertical-align: middle;\n",
              "    }\n",
              "\n",
              "    .dataframe tbody tr th {\n",
              "        vertical-align: top;\n",
              "    }\n",
              "\n",
              "    .dataframe thead th {\n",
              "        text-align: right;\n",
              "    }\n",
              "</style>\n",
              "<table border=\"1\" class=\"dataframe\">\n",
              "  <thead>\n",
              "    <tr style=\"text-align: right;\">\n",
              "      <th></th>\n",
              "      <th>QUANTIDADE</th>\n",
              "    </tr>\n",
              "    <tr>\n",
              "      <th>INGREDIENTE</th>\n",
              "      <th></th>\n",
              "    </tr>\n",
              "  </thead>\n",
              "  <tbody>\n",
              "    <tr>\n",
              "      <th>pão integral</th>\n",
              "      <td>4.178</td>\n",
              "    </tr>\n",
              "    <tr>\n",
              "      <th>salada crua</th>\n",
              "      <td>0.716</td>\n",
              "    </tr>\n",
              "    <tr>\n",
              "      <th>frango grelhado</th>\n",
              "      <td>0.172</td>\n",
              "    </tr>\n",
              "    <tr>\n",
              "      <th>iogurte</th>\n",
              "      <td>5.226</td>\n",
              "    </tr>\n",
              "  </tbody>\n",
              "</table>\n",
              "</div><br><label><b>dtype:</b> float64</label>"
            ]
          },
          "metadata": {}
        },
        {
          "output_type": "stream",
          "name": "stdout",
          "text": [
            "sum{i in 1 .. m} calorias[i]*x[i] = 1131.77\n",
            "\n",
            "Z = 13.2274\n",
            "\n"
          ]
        }
      ]
    },
    {
      "cell_type": "markdown",
      "source": [
        "## Reflexões\n",
        "\n",
        "1. Quais as limitações da solução apresentada para o problema?\n",
        "2. O que poderia ser melhorado?\n",
        "3. Em um cenário um pouco mais realista, como poderia ser pensado o cardápio de um refeitório como este descrito?\n",
        "4. Este modelo poderia ser aplicado na sua casa ou trabalho?"
      ],
      "metadata": {
        "id": "9kdseDubChJC"
      }
    }
  ]
}